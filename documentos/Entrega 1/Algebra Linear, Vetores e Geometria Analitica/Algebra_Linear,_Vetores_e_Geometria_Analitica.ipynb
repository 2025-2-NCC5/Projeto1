{
  "nbformat": 4,
  "nbformat_minor": 0,
  "metadata": {
    "colab": {
      "provenance": []
    },
    "kernelspec": {
      "name": "python3",
      "display_name": "Python 3"
    },
    "language_info": {
      "name": "python"
    }
  },
  "cells": [
    {
      "cell_type": "code",
      "execution_count": 1,
      "metadata": {
        "id": "36oPJc4PXHqe"
      },
      "outputs": [],
      "source": [
        "import numpy as np\n",
        "import pandas as pd"
      ]
    },
    {
      "cell_type": "code",
      "source": [
        "dfcus = pd.read_csv(\"Customer_semicolon.csv\", sep=\";\") #Coleta de dados\n",
        "dfcamp = pd.read_csv(\"Campaign_semicolon.csv\", sep=\";\")\n",
        "dford = pd.read_csv(\"Order_semicolon.csv\", sep=\";\")"
      ],
      "metadata": {
        "id": "WhDaXfn_ZsLp"
      },
      "execution_count": 20,
      "outputs": []
    },
    {
      "cell_type": "code",
      "source": [
        "genero = dfcus[\"gender\"].value_counts(dropna=False).sort_index()   #Seleciona a quantidade de pessoas de cada genero\n",
        "enrich = dfcus[dfcus[\"isEnriched\"]==0][\"gender\"].value_counts(dropna=False).reindex(genero.index, fill_value=0)   #Seleciona quantos dados foram melhorados\n",
        "enrichn = dfcus[dfcus[\"isEnriched\"]==1][\"gender\"].value_counts(dropna=False).reindex(genero.index, fill_value=0)  #Seleciona quantos dados não foram melhorados\n",
        "\n",
        "matrizgen = np.vstack([genero.values, enrich.values, enrichn.values])  #Monta a matriz com os dados selecionados\n",
        "\n",
        "print(matrizgen)   #Mostra a matriz montada"
      ],
      "metadata": {
        "colab": {
          "base_uri": "https://localhost:8080/"
        },
        "id": "18fgaadubVEp",
        "outputId": "f7577e15-726e-4928-e821-9e1f4d3ddff1"
      },
      "execution_count": 15,
      "outputs": [
        {
          "output_type": "stream",
          "name": "stdout",
          "text": [
            "[[244 234 263 259]\n",
            " [119 128 121 128]\n",
            " [125 106 142 131]]\n"
          ]
        }
      ]
    },
    {
      "cell_type": "code",
      "source": [
        "df_matrizgen = pd.DataFrame(  #Estrutura da matriz com indices\n",
        "    matrizgen,     #carrega a matriz\n",
        "    index = [\"Total\", \"Enriched\", \"Não Enriched\"],\n",
        "    columns = [\"Feminino\", \"Masculino\", \"Outro\", \"Não Selecionado\"]\n",
        ")\n",
        "\n",
        "print(df_matrizgen)   #Mostra a matriz"
      ],
      "metadata": {
        "colab": {
          "base_uri": "https://localhost:8080/"
        },
        "id": "Ht9OnEDfbG-L",
        "outputId": "cb4dd5fa-e300-4036-b036-6732c61821de"
      },
      "execution_count": 25,
      "outputs": [
        {
          "output_type": "stream",
          "name": "stdout",
          "text": [
            "              Feminino  Masculino  Outro  Não Selecionado\n",
            "Total              244        234    263              259\n",
            "Enriched           119        128    121              128\n",
            "Não Enriched       125        106    142              131\n"
          ]
        }
      ]
    },
    {
      "cell_type": "code",
      "source": [
        "df_matrizTgen = pd.DataFrame(  #Estrutura da matriz Transposta com indices\n",
        "    matrizgen.T,   #carrega a matriz e transpõe ela\n",
        "    index = [\"Feminino\", \"Masculino\", \"Outro\", \"Não Selecionado\"],\n",
        "    columns = [\"Total\", \"Enriched\", \"Não Enriched\"]\n",
        ")\n",
        "\n",
        "print(df_matrizTgen)  #Mostra a matriz transposta"
      ],
      "metadata": {
        "colab": {
          "base_uri": "https://localhost:8080/"
        },
        "id": "G0etE-kBcvqt",
        "outputId": "58004f1e-a405-49b0-f3b1-0d6168489ea6"
      },
      "execution_count": 26,
      "outputs": [
        {
          "output_type": "stream",
          "name": "stdout",
          "text": [
            "                 Total  Enriched  Não Enriched\n",
            "Feminino           244       119           125\n",
            "Masculino          234       128           106\n",
            "Outro              263       121           142\n",
            "Não Selecionado    259       128           131\n"
          ]
        }
      ]
    },
    {
      "cell_type": "code",
      "source": [
        "statuscamp = dfcamp[\"status\"].value_counts().sort_index()   #Seleciona quantas campanhas existem com o mesmo status\n",
        "typeum = dfcamp[dfcamp[\"type\"]==1][\"status\"].value_counts().reindex(statuscamp.index, fill_value=0)   #Seleciona a quantidade de campanhas promocionais\n",
        "typedois = dfcamp[dfcamp[\"type\"]==2][\"status\"].value_counts().reindex(statuscamp.index, fill_value=0)  #Seleciona a quantidade de campanhas institucionais\n",
        "\n",
        "matrizcamp = np.vstack([statuscamp.values, typeum.values, typedois.values])  #Monta a matriz com os dados selecionados\n",
        "\n",
        "print(matrizcamp)   #Mostra a matriz montada"
      ],
      "metadata": {
        "colab": {
          "base_uri": "https://localhost:8080/"
        },
        "id": "ADtS35B0h_LJ",
        "outputId": "6b02b81b-3021-4ee7-9c93-69563f856297"
      },
      "execution_count": 22,
      "outputs": [
        {
          "output_type": "stream",
          "name": "stdout",
          "text": [
            "[[500 497 480 523]\n",
            " [265 257 270 264]\n",
            " [235 240 210 259]]\n"
          ]
        }
      ]
    },
    {
      "cell_type": "code",
      "source": [
        "df_matrizcamp = pd.DataFrame(  #Estrutura da matriz com indices\n",
        "    matrizcamp,     #carrega a matriz\n",
        "    index = [\"Total\", \"Promocional\", \"Institucional\"],\n",
        "    columns = [\"Rascunho\", \"Cancelado\", \"Publicado\", \"Completado\"]\n",
        ")\n",
        "\n",
        "print(df_matrizcamp)   #Mostra a matriz"
      ],
      "metadata": {
        "colab": {
          "base_uri": "https://localhost:8080/"
        },
        "id": "iEfSeCifi3e_",
        "outputId": "c35e1487-7478-4a12-aa44-77a2d7c191e1"
      },
      "execution_count": 24,
      "outputs": [
        {
          "output_type": "stream",
          "name": "stdout",
          "text": [
            "               Rascunho  Cancelado  Publicado  Completado\n",
            "Total               500        497        480         523\n",
            "Promocional         265        257        270         264\n",
            "Institucional       235        240        210         259\n"
          ]
        }
      ]
    },
    {
      "cell_type": "code",
      "source": [
        "df_matrizTcamp = pd.DataFrame(  #Estrutura da matriz transposta com indices\n",
        "    matrizcamp.T,     #carrega a matriz e transpõe ela\n",
        "    index = [\"Rascunho\", \"Cancelado\", \"Publicado\", \"Completado\"],\n",
        "    columns = [\"Total\", \"Promocional\", \"Institucional\"]\n",
        ")\n",
        "\n",
        "print(df_matrizTcamp)   #Mostra a matriz transposta"
      ],
      "metadata": {
        "colab": {
          "base_uri": "https://localhost:8080/"
        },
        "id": "PQsnFwLNj8pN",
        "outputId": "98e713d7-0fd6-49e0-80eb-90a381b4f822"
      },
      "execution_count": 46,
      "outputs": [
        {
          "output_type": "stream",
          "name": "stdout",
          "text": [
            "            Total  Promocional  Institucional\n",
            "Rascunho      500          265            235\n",
            "Cancelado     497          257            240\n",
            "Publicado     480          270            210\n",
            "Completado    523          264            259\n"
          ]
        }
      ]
    },
    {
      "cell_type": "code",
      "source": [
        "print(matrizgen)\n",
        "print(\"\\t+\\t\")\n",
        "print(matrizcamp)\n",
        "print(\"\\t=\\n\")\n",
        "\n",
        "matrizS = matrizgen + matrizcamp  #Soma entre matrizes\n",
        "\n",
        "print(matrizS)"
      ],
      "metadata": {
        "colab": {
          "base_uri": "https://localhost:8080/"
        },
        "id": "Bve6BOLnmSzI",
        "outputId": "989da651-47a0-4b6c-d0c2-30a23edc7b72"
      },
      "execution_count": 43,
      "outputs": [
        {
          "output_type": "stream",
          "name": "stdout",
          "text": [
            "[[244 234 263 259]\n",
            " [119 128 121 128]\n",
            " [125 106 142 131]]\n",
            "\t+\t\n",
            "[[500 497 480 523]\n",
            " [265 257 270 264]\n",
            " [235 240 210 259]]\n",
            "\t=\n",
            "\n",
            "[[744 731 743 782]\n",
            " [384 385 391 392]\n",
            " [360 346 352 390]]\n"
          ]
        }
      ]
    },
    {
      "cell_type": "code",
      "source": [
        "print(matrizgen)\n",
        "print(\"\\tX\\t\")\n",
        "print(matrizcamp.T)\n",
        "print(\"\\t=\\n\")\n",
        "\n",
        "matrizV = np.dot(matrizgen, matrizcamp.T) #Multiplicação entre matrizes\n",
        "\n",
        "print(matrizV)"
      ],
      "metadata": {
        "colab": {
          "base_uri": "https://localhost:8080/"
        },
        "id": "FOVH9hY5lWk6",
        "outputId": "3fe3b61c-5c9b-4eee-d5ca-acf3ccdb351d"
      },
      "execution_count": 45,
      "outputs": [
        {
          "output_type": "stream",
          "name": "stdout",
          "text": [
            "[[244 234 263 259]\n",
            " [119 128 121 128]\n",
            " [125 106 142 131]]\n",
            "\tX\t\n",
            "[[500 265 235]\n",
            " [497 257 240]\n",
            " [480 270 210]\n",
            " [523 264 259]]\n",
            "\t=\n",
            "\n",
            "[[499995 264184 235811]\n",
            " [248140 130893 117247]\n",
            " [251855 133291 118564]]\n"
          ]
        }
      ]
    },
    {
      "cell_type": "code",
      "source": [
        "ordert = dford[\"orderType\"].value_counts()   #Seleciona a quantidade de cada tipo de pedido\n",
        "\n",
        "vetorord = np.stack(ordert.values)  #Coloca os dados em um vetor\n",
        "\n",
        "print(vetorord)   #Mostra o vetor"
      ],
      "metadata": {
        "colab": {
          "base_uri": "https://localhost:8080/"
        },
        "id": "seiK2n4sfM1N",
        "outputId": "42b9179e-928f-4d32-b1be-5dcfc794539a"
      },
      "execution_count": 61,
      "outputs": [
        {
          "output_type": "stream",
          "name": "stdout",
          "text": [
            "[688 685 627]\n"
          ]
        }
      ]
    },
    {
      "cell_type": "code",
      "source": [
        "df_ordert = ordert.to_frame().T\n",
        "df_ordert.index = [\"\"]\n",
        "df_ordert.columns.name = None\n",
        "\n",
        "print(df_ordert)"
      ],
      "metadata": {
        "colab": {
          "base_uri": "https://localhost:8080/"
        },
        "id": "Th6sOx6jg1dy",
        "outputId": "c5facf6b-8257-4073-dc3e-24db4a7cce7e"
      },
      "execution_count": 79,
      "outputs": [
        {
          "output_type": "stream",
          "name": "stdout",
          "text": [
            "  DELIVERY  INDOOR  TAKEOUT\n",
            "       688     685      627\n"
          ]
        }
      ]
    }
  ]
}